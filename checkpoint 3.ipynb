{
 "cells": [
  {
   "cell_type": "code",
   "execution_count": 4,
   "id": "2ce691b3",
   "metadata": {},
   "outputs": [
    {
     "name": "stdout",
     "output_type": "stream",
     "text": [
      "5\n",
      "9\n",
      "1\n",
      "45\n"
     ]
    }
   ],
   "source": [
    "# Question1\n",
    "a=int(input())\n",
    "b=int(input())\n",
    "c=int(input())\n",
    "list=[a,b,c]\n",
    "list=a*b*c\n",
    "print(list)"
   ]
  },
  {
   "cell_type": "code",
   "execution_count": null,
   "id": "2af88e20",
   "metadata": {},
   "outputs": [],
   "source": [
    "# Question2\n",
    "def last(n): return n[-1]\n",
    "\n",
    "def sort_list_last(tuples):\n",
    "  return sorted(tuples, key=last)\n",
    "\n",
    "print(sort_list_last([(2, 5), (1, 2), (4, 4), (2, 3), (2, 1)]))\n",
    " "
   ]
  },
  {
   "cell_type": "code",
   "execution_count": null,
   "id": "9ca20fbd",
   "metadata": {},
   "outputs": [],
   "source": [
    "# Question3\n",
    "d1 = {'a': 100, 'b': 200, 'c':300}\n",
    "d2 = {'a': 300, 'b': 200, 'd':400}\n",
    "d3=dict(d2)\n",
    "d3.update(d1)\n",
    "for i, j in d1.items():\n",
    "    for x, y in d2.items():\n",
    "        if i == x:\n",
    "            d3[i]=(j+y)\n",
    "print(d3)"
   ]
  },
  {
   "cell_type": "code",
   "execution_count": null,
   "id": "1ef4dfcb",
   "metadata": {},
   "outputs": [],
   "source": [
    "# Question4\n",
    "x=int(input(\"Enter a value for x\"))\n",
    "d1 = {i : i*i for x in range(1, x+1)}\n",
    "print(d1)"
   ]
  },
  {
   "cell_type": "code",
   "execution_count": null,
   "id": "572a3a36",
   "metadata": {},
   "outputs": [],
   "source": [
    "# Question5\n",
    "list = []\n",
    "n = int(input(\"number of elements : \"))\n",
    "for i in range(0, n):\n",
    "    element = int(input())\n",
    "    list.append(element)\n",
    "list.sort()\n",
    "list=list[::-1]\n",
    "print(list)\n"
   ]
  },
  {
   "cell_type": "code",
   "execution_count": null,
   "id": "5e775bfd",
   "metadata": {},
   "outputs": [],
   "source": []
  },
  {
   "cell_type": "code",
   "execution_count": null,
   "id": "a71d115d",
   "metadata": {},
   "outputs": [],
   "source": []
  }
 ],
 "metadata": {
  "kernelspec": {
   "display_name": "Python 3",
   "language": "python",
   "name": "python3"
  }
 },
 "nbformat": 4,
 "nbformat_minor": 5
}
