{
 "cells": [
  {
   "cell_type": "code",
   "execution_count": 7,
   "id": "aed8882c",
   "metadata": {},
   "outputs": [
    {
     "name": "stdout",
     "output_type": "stream",
     "text": [
      "What is Python language?                                                \n",
      "Python is a widely used high-level, general-purpose, interpreted, dynamic programming language.Its design philosophy emphasizes code readability, and its syntax allows programmers to express concepts in fewer lines of code than possible in \n",
      "languages such as C++ or Java. \n",
      "Python supports multiple programming paradigms, including object-oriented, imperative and functional programming or procedural styles. It features a dynamic type system and automatic memory management and has a large and comprehensive standard library.The best way we learn anything is by practice and exercise questions. We  have started this section for those (beginner to intermediate) who are familiar with Python.\n"
     ]
    }
   ],
   "source": [
    "# Quesiton1\n",
    "f = open(\"python.txt\",'r',encoding = 'utf-8')\n",
    "print(f.read())"
   ]
  },
  {
   "cell_type": "code",
   "execution_count": 29,
   "id": "2acb9f30",
   "metadata": {},
   "outputs": [
    {
     "name": "stdout",
     "output_type": "stream",
     "text": [
      "1\n",
      "What is Python language?                                                \n",
      "\n"
     ]
    }
   ],
   "source": [
    "# Question2\n",
    "f=open(\"python.txt\",'r',encoding = 'utf-8')\n",
    "n_file = open(\"python.txt\")\n",
    "number_of_lines = int(input())\n",
    "for i in range(number_of_lines):\n",
    "    line = n_file.readline()\n",
    "    print(line)"
   ]
  },
  {
   "cell_type": "code",
   "execution_count": 30,
   "id": "efe91118",
   "metadata": {},
   "outputs": [
    {
     "name": "stdout",
     "output_type": "stream",
     "text": [
      "Python supports multiple programming paradigms, including object-oriented, imperative and functional programming or procedural styles. It features a dynamic type system and automatic memory management and has a large and comprehensive standard library.The best way we learn anything is by practice and exercise questions. We  have started this section for those (beginner to intermediate) who are familiar with Python.\n"
     ]
    }
   ],
   "source": [
    "# Question3\n",
    "def read_lastnlines(fname,n):\n",
    "    with open('python.txt') as f:\n",
    "        for line in (f.readlines() [-n:]):\n",
    "            print(line)\n",
    "\n",
    "read_lastnlines('python.txt',1)"
   ]
  },
  {
   "cell_type": "code",
   "execution_count": 27,
   "id": "d32d76b9",
   "metadata": {},
   "outputs": [
    {
     "name": "stdout",
     "output_type": "stream",
     "text": [
      "148\n"
     ]
    }
   ],
   "source": [
    "# Question4\n",
    "def count_words(filepath):\n",
    "   with open(filepath) as f:\n",
    "       data = f.read()\n",
    "       data.replace(\",\", \" \")\n",
    "       return len(data.split(\" \"))\n",
    "print(count_words(\"python.txt\"))\n"
   ]
  },
  {
   "cell_type": "code",
   "execution_count": 28,
   "id": "f7d2fe09",
   "metadata": {},
   "outputs": [
    {
     "name": "stdout",
     "output_type": "stream",
     "text": [
      "Python supports multiple programming paradigms, including object-oriented, imperative and functional programming or procedural styles. It features a dynamic type system and automatic memory management and has a large and comprehensive standard library.The best way we learn anything is by practice and exercise questions. We  have started this section for those (beginner to intermediate) who are familiar with Python.\n"
     ]
    }
   ],
   "source": [
    "# Question5\n",
    "def read_lastnlines(fname,n):\n",
    "    with open('python.txt') as f:\n",
    "        for line in (f.readlines() [-n:]):\n",
    "            print(line)\n",
    "\n",
    "read_lastnlines('python.txt',int(input()))"
   ]
  },
  {
   "cell_type": "code",
   "execution_count": null,
   "id": "bdc46678",
   "metadata": {},
   "outputs": [],
   "source": []
  }
 ],
 "metadata": {
  "kernelspec": {
   "display_name": "Python 3",
   "language": "python",
   "name": "python3"
  },
  "language_info": {
   "codemirror_mode": {
    "name": "ipython",
    "version": 3
   },
   "file_extension": ".py",
   "mimetype": "text/x-python",
   "name": "python",
   "nbconvert_exporter": "python",
   "pygments_lexer": "ipython3",
   "version": "3.8.8"
  }
 },
 "nbformat": 4,
 "nbformat_minor": 5
}
