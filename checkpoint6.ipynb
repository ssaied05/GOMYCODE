{
 "cells": [
  {
   "cell_type": "code",
   "execution_count": 9,
   "id": "dc8ac7f7",
   "metadata": {},
   "outputs": [
    {
     "name": "stdout",
     "output_type": "stream",
     "text": [
      "[1, 2, 3, 4, 5, 6]\n"
     ]
    }
   ],
   "source": [
    "# Question1\n",
    "from array import *\n",
    "new_array=array('b',[1,2,3,4,5,6])\n",
    "list=new_array.tolist()\n",
    "print(list)"
   ]
  },
  {
   "cell_type": "code",
   "execution_count": 15,
   "id": "2cf82e63",
   "metadata": {},
   "outputs": [
    {
     "name": "stdout",
     "output_type": "stream",
     "text": [
      "[[0 1 2]\n",
      " [3 4 5]\n",
      " [6 7 8]]\n",
      "12\n"
     ]
    }
   ],
   "source": [
    "# Question2\n",
    "import numpy as np\n",
    "p=np.arange(9).reshape(3,3)\n",
    "print(p)\n",
    "res=np.trace(p)\n",
    "print(res)\n"
   ]
  },
  {
   "cell_type": "code",
   "execution_count": 17,
   "id": "d3a94686",
   "metadata": {},
   "outputs": [
    {
     "name": "stdout",
     "output_type": "stream",
     "text": [
      "Number is bigger than 11 [15]\n"
     ]
    }
   ],
   "source": [
    "# Question3\n",
    "import numpy as np\n",
    "y = np.array([[4, 7, 9], [15, 8, 11]])\n",
    "print(\"Number is bigger than 11\", y[y>11])"
   ]
  },
  {
   "cell_type": "code",
   "execution_count": 12,
   "id": "6afaa668",
   "metadata": {},
   "outputs": [
    {
     "name": "stdout",
     "output_type": "stream",
     "text": [
      "[[[ 9  8]\n",
      "  [ 9  7]\n",
      "  [15 11]]]\n"
     ]
    }
   ],
   "source": [
    "# Question4\n",
    "import numpy as np\n",
    "x=np.array([(5,3),(2,4),(7,5)])\n",
    "y=np.array([(4,5),(7,3),(8,6)])\n",
    "z=np.array([x+y])\n",
    "print(c)"
   ]
  },
  {
   "cell_type": "code",
   "execution_count": 19,
   "id": "21e27a8c",
   "metadata": {},
   "outputs": [
    {
     "name": "stdout",
     "output_type": "stream",
     "text": [
      "[[2 2 8 9 4]\n",
      " [9 6 5 3 8]]\n",
      "[[-3.  -3.   3.   4.  -1. ]\n",
      " [ 2.8 -0.2 -1.2 -3.2  1.8]]\n"
     ]
    }
   ],
   "source": [
    "# Question5\n",
    "import numpy as np\n",
    "a= np.random.randint(2, 10, size=(2,5))\n",
    "print(a)\n",
    "b = a- a.mean(axis=1, keepdims=True)\n",
    "print(b)"
   ]
  },
  {
   "cell_type": "code",
   "execution_count": null,
   "id": "7bbec780",
   "metadata": {},
   "outputs": [],
   "source": []
  },
  {
   "cell_type": "code",
   "execution_count": null,
   "id": "a285ded2",
   "metadata": {},
   "outputs": [],
   "source": []
  },
  {
   "cell_type": "code",
   "execution_count": null,
   "id": "7b4176f0",
   "metadata": {},
   "outputs": [],
   "source": []
  }
 ],
 "metadata": {
  "kernelspec": {
   "display_name": "Python 3",
   "language": "python",
   "name": "python3"
  },
  "language_info": {
   "codemirror_mode": {
    "name": "ipython",
    "version": 3
   },
   "file_extension": ".py",
   "mimetype": "text/x-python",
   "name": "python",
   "nbconvert_exporter": "python",
   "pygments_lexer": "ipython3",
   "version": "3.8.8"
  }
 },
 "nbformat": 4,
 "nbformat_minor": 5
}
