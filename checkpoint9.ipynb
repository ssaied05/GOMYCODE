{
 "cells": [
  {
   "cell_type": "code",
   "execution_count": 12,
   "id": "886ea753",
   "metadata": {},
   "outputs": [
    {
     "name": "stdout",
     "output_type": "stream",
     "text": [
      "5\n",
      "True\n",
      "2\n"
     ]
    }
   ],
   "source": [
    "# Question1\n",
    "def binary_search(sequence, item):\n",
    "    begin_index = 0\n",
    "    end_index = len(sequence) - 1\n",
    "\n",
    "    while begin_index<=end_index: \n",
    "        midpoint = begin_index + (end_index - begin_index) // 2\n",
    "        midpoint_value = sequence[midpoint]\n",
    "        if midpoint_value == item:\n",
    "            return midpoint\n",
    "\n",
    "        elif item: \n",
    "            end_index = midpoint - 1\n",
    "\n",
    "        else:\n",
    "            begin_index = midpoint + 1\n",
    "\n",
    "    return None\n",
    "\n",
    "sequence = [2,4,5,6,7,8,9,10,12,13,14]\n",
    "item =int(input())\n",
    "if item in sequence:\n",
    "    print(True)\n",
    "else:\n",
    "    print(False)\n",
    "\n",
    "print(binary_search(sequence, item))\n"
   ]
  },
  {
   "cell_type": "code",
   "execution_count": 13,
   "id": "da72ce4c",
   "metadata": {},
   "outputs": [
    {
     "name": "stdout",
     "output_type": "stream",
     "text": [
      "x= 5\n",
      "y= 4\n",
      "625\n"
     ]
    }
   ],
   "source": [
    "# Question2\n",
    "x=int(input(\"x= \"))\n",
    "y=int(input(\"y= \"))\n",
    "def puissance(x,y):\n",
    "    return x**y\n",
    "print(puissance(x,y))"
   ]
  },
  {
   "cell_type": "code",
   "execution_count": 16,
   "id": "9be4f5cc",
   "metadata": {},
   "outputs": [
    {
     "name": "stdout",
     "output_type": "stream",
     "text": [
      "[1, 4, 6, 10, 12, 47, 57, 82, 101, 3000]\n"
     ]
    }
   ],
   "source": [
    "# Question3\n",
    "def bubbleSort(list):\n",
    "    for passnum in range(len(list)-1,0,-1):\n",
    "        for i in range(passnum):\n",
    "            if list[i]>list[i+1]:\n",
    "                tmp = list[i]\n",
    "                list[i] = list[i+1]\n",
    "                list[i+1] = tmp\n",
    "    return list\n",
    "\n",
    "list = [10,47,57,82,1,6,4,12,101,3000]\n",
    "print(bubbleSort(list))"
   ]
  },
  {
   "cell_type": "code",
   "execution_count": 25,
   "id": "af514687",
   "metadata": {},
   "outputs": [
    {
     "name": "stdout",
     "output_type": "stream",
     "text": [
      "[13, 22, 29, 37, 46, 49, 52, 56, 71]\n"
     ]
    }
   ],
   "source": [
    "# Question4\n",
    "def mergeSort(List):\n",
    "    if len(List) > 1:\n",
    "        mid = len(List) // 2\n",
    "        left = List[:mid]\n",
    "        right = List[mid:]\n",
    "\n",
    "        mergeSort(left)\n",
    "        mergeSort(right)\n",
    "\n",
    "        x = 0\n",
    "        y = 0\n",
    "        \n",
    "        z = 0\n",
    "        \n",
    "        while x < len(left) and y < len(right):\n",
    "            if left[x] < right[y]:\n",
    "              List[z] = left[x]\n",
    "              x += 1\n",
    "            else:\n",
    "                List[z] = right[y]\n",
    "                y += 1\n",
    "            z += 1\n",
    "\n",
    "        while x < len(left):\n",
    "            List[z] = left[x]\n",
    "            x += 1\n",
    "            z += 1\n",
    "\n",
    "        while y < len(right):\n",
    "            List[z]=right[y]\n",
    "            y += 1\n",
    "            z += 1\n",
    "\n",
    "List = [29,13,22,37,52,49,46,71,56]\n",
    "mergeSort(List)\n",
    "print(List)"
   ]
  },
  {
   "cell_type": "code",
   "execution_count": 35,
   "id": "ce8b5b4a",
   "metadata": {},
   "outputs": [
    {
     "name": "stdout",
     "output_type": "stream",
     "text": [
      "[13, 22, 29, 37, 46, 49, 52, 56, 71]\n"
     ]
    }
   ],
   "source": [
    "# Question5\n",
    "def quicksort(list):\n",
    "   qs(list,0,len(list)-1)\n",
    "\n",
    "def qs(list,first,last):\n",
    "   if first < last:\n",
    "       splitpoint = partition(list,first,last)\n",
    "       qs(list,first,splitpoint-1)\n",
    "       qs(list,splitpoint+1,last)\n",
    "\n",
    "def partition(list,first,last): \n",
    "   pivotvalue = list[first]\n",
    "   leftmark = first+1\n",
    "   rightmark = last\n",
    "   done = False\n",
    "   while not done:\n",
    "       while leftmark <= rightmark and list[leftmark] <= pivotvalue:\n",
    "           leftmark = leftmark + 1\n",
    "       while list[rightmark] >= pivotvalue and rightmark >= leftmark:\n",
    "           rightmark = rightmark -1\n",
    "       if rightmark < leftmark:\n",
    "           done = True\n",
    "       else:\n",
    "           temp = list[leftmark]\n",
    "           list[leftmark] = list[rightmark]\n",
    "           list[rightmark] = temp\n",
    "   temp = list[first]\n",
    "   list[first] = list[rightmark]\n",
    "   list[rightmark] = temp\n",
    "   return rightmark\n",
    "\n",
    "list = [29,13,22,37,52,49,46,71,56]\n",
    "quicksort(list)\n",
    "print(list)\n"
   ]
  },
  {
   "cell_type": "code",
   "execution_count": null,
   "id": "3afdb115",
   "metadata": {},
   "outputs": [],
   "source": [
    "\n"
   ]
  },
  {
   "cell_type": "code",
   "execution_count": null,
   "id": "bb85b45c",
   "metadata": {},
   "outputs": [],
   "source": []
  },
  {
   "cell_type": "code",
   "execution_count": null,
   "id": "be6be1c6",
   "metadata": {},
   "outputs": [],
   "source": []
  }
 ],
 "metadata": {
  "kernelspec": {
   "display_name": "Python 3",
   "language": "python",
   "name": "python3"
  },
  "language_info": {
   "codemirror_mode": {
    "name": "ipython",
    "version": 3
   },
   "file_extension": ".py",
   "mimetype": "text/x-python",
   "name": "python",
   "nbconvert_exporter": "python",
   "pygments_lexer": "ipython3",
   "version": "3.8.8"
  }
 },
 "nbformat": 4,
 "nbformat_minor": 5
}
