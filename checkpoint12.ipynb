{
 "cells": [
  {
   "cell_type": "code",
   "execution_count": 13,
   "id": "eb186987",
   "metadata": {},
   "outputs": [],
   "source": [
    "def remove_match_char(list1, list2):\n",
    "    for i in range(len(list1)) :\n",
    "        for j in range(len(list2)) :\n",
    "            if list1[i] == list2[j] :\n",
    "                c = list1[i]\n",
    "                list1.remove(c)\n",
    "                list2.remove(c)\n",
    "                list3 = list1 + [\"*\"] + list2\n",
    "                return [list3, True]\n",
    "    list3 = list1 + [\"*\"] + list2\n",
    "    return [list3, False]\n"
   ]
  },
  {
   "cell_type": "code",
   "execution_count": null,
   "id": "cc4b1b62",
   "metadata": {},
   "outputs": [],
   "source": []
  },
  {
   "cell_type": "code",
   "execution_count": null,
   "id": "6115904f",
   "metadata": {},
   "outputs": [],
   "source": []
  },
  {
   "cell_type": "code",
   "execution_count": null,
   "id": "266440fe",
   "metadata": {},
   "outputs": [],
   "source": []
  }
 ],
 "metadata": {
  "kernelspec": {
   "display_name": "Python 3",
   "language": "python",
   "name": "python3"
  }
 },
 "nbformat": 4,
 "nbformat_minor": 5
}
