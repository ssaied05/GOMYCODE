{
 "cells": [
  {
   "cell_type": "code",
   "execution_count": 6,
   "id": "2d20a69b",
   "metadata": {},
   "outputs": [
    {
     "name": "stdout",
     "output_type": "stream",
     "text": [
      "Enter a number a: 585\n",
      "Enter a number b: 12247\n",
      "Enter a number c: 659841\n",
      "the max of these three numbers is 659841.0\n"
     ]
    }
   ],
   "source": [
    "# Question1\n",
    "a= float(input(\"Enter a number a: \"))\n",
    "b= float(input(\"Enter a number b: \"))\n",
    "c= float(input(\"Enter a number c: \"))\n",
    "if a>b and a>c:\n",
    "    print(\"the max of these three numbers is\", a)\n",
    "elif b>a and b>c:\n",
    "    print(\"the max of these three numbers is\", b)\n",
    "elif c>a and c>b:\n",
    "    print(\"the max of these three numbers is\", c)"
   ]
  },
  {
   "cell_type": "code",
   "execution_count": null,
   "id": "6b780e1e",
   "metadata": {},
   "outputs": [],
   "source": [
    "a=float(input())\n",
    "b=float(input())\n",
    "def calculation(a,b):\n",
    "    x=(a+b),(a-b) \n",
    "    return x \n",
    "y=calculation(a,b)\n",
    "print(y)"
   ]
  },
  {
   "cell_type": "code",
   "execution_count": 18,
   "id": "7b0cf02b",
   "metadata": {},
   "outputs": [
    {
     "name": "stdout",
     "output_type": "stream",
     "text": [
      "Enter number of elements : 3\n",
      "5\n",
      "4\n",
      "4\n",
      "13\n"
     ]
    }
   ],
   "source": [
    "# Question3\n",
    "list=[]\n",
    "n = int(input(\"Enter number of elements : \"))\n",
    "for i in range(0, n):\n",
    "    element = int(input())\n",
    "    list.append(element)\n",
    "def listsum(list):\n",
    "    result =0\n",
    "    for i in list:\n",
    "        result += i\n",
    "    return result\n",
    "print(listsum(list))"
   ]
  },
  {
   "cell_type": "code",
   "execution_count": 19,
   "id": "29b8995d",
   "metadata": {},
   "outputs": [
    {
     "name": "stdout",
     "output_type": "stream",
     "text": [
      "Enter number of elements : 5\n",
      "4\n",
      "2\n",
      "1\n",
      "3\n",
      "5\n",
      "120\n"
     ]
    }
   ],
   "source": [
    "# Suite Question3\n",
    "list=[]\n",
    "n = int(input(\"Enter number of elements : \"))\n",
    "for i in range(0, n):\n",
    "    element = int(input())\n",
    "    list.append(element)\n",
    "def listsum(list):\n",
    "    res=1\n",
    "    for i in list:\n",
    "        res*=i\n",
    "    return res\n",
    "print(listsum(list))"
   ]
  },
  {
   "cell_type": "code",
   "execution_count": 25,
   "id": "de28d7eb",
   "metadata": {},
   "outputs": [
    {
     "name": "stdout",
     "output_type": "stream",
     "text": [
      "the sum of the even of these numbers is 51\n",
      "the multiplication of the odd numbers is 90\n"
     ]
    }
   ],
   "source": [
    "def sum(list):\n",
    "    result=0\n",
    "    for i in list:\n",
    "        result+=i\n",
    "    return result\n",
    "def pl(list):\n",
    "    result1=1\n",
    "    for i in list:\n",
    "        result1*=i\n",
    "    return result1\n",
    "list1=[11, 5, 17, 18, 23]\n",
    "list2=[]\n",
    "list3=[]\n",
    "for i in range (0,len(list1),2):\n",
    "    list2.append(list1[i])\n",
    "    x=sum(list2)\n",
    "print(\"the sum of the even of these numbers is\",x)\n",
    "for s in range(1,len(list1),2):\n",
    "    list3.append(list1[s])\n",
    "    c=pl(list3)\n",
    "print(\"the multiplication of the odd numbers is\", c)"
   ]
  },
  {
   "cell_type": "code",
   "execution_count": 26,
   "id": "1a5ccb3c",
   "metadata": {},
   "outputs": [
    {
     "name": "stdout",
     "output_type": "stream",
     "text": [
      "enter words seperated by - mohamed-couscous-mousse-sousse\n",
      "couscous-mohamed-mousse-sousse\n"
     ]
    }
   ],
   "source": [
    "# Question4\n",
    "items=[n for n in input(\"enter words seperated by - \").split('-')]\n",
    "items.sort()\n",
    "print(\"-\".join(items))"
   ]
  },
  {
   "cell_type": "code",
   "execution_count": 40,
   "id": "b076faf8",
   "metadata": {},
   "outputs": [
    {
     "name": "stdout",
     "output_type": "stream",
     "text": [
      "114, 58\n",
      "[19, 14]\n"
     ]
    }
   ],
   "source": [
    "# Question5\n",
    "import math \n",
    "H = 30\n",
    "C = 50\n",
    "D = input()\n",
    "D = D.split(',')\n",
    "list = []\n",
    "for D in D:\n",
    "    Q= round(math.sqrt(2 * C * int(D) /H ))\n",
    "    list.append(Q)\n",
    "print(list)\n"
   ]
  },
  {
   "cell_type": "code",
   "execution_count": null,
   "id": "e4bb1918",
   "metadata": {},
   "outputs": [],
   "source": [
    "\n",
    "\n"
   ]
  },
  {
   "cell_type": "code",
   "execution_count": null,
   "id": "ff4b119a",
   "metadata": {},
   "outputs": [],
   "source": []
  }
 ],
 "metadata": {
  "kernelspec": {
   "display_name": "Python 3",
   "language": "python",
   "name": "python3"
  },
  "language_info": {
   "codemirror_mode": {
    "name": "ipython",
    "version": 3
   },
   "file_extension": ".py",
   "mimetype": "text/x-python",
   "name": "python",
   "nbconvert_exporter": "python",
   "pygments_lexer": "ipython3",
   "version": "3.8.8"
  }
 },
 "nbformat": 4,
 "nbformat_minor": 5
}
