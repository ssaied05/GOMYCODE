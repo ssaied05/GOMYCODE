{
 "cells": [
  {
   "cell_type": "code",
   "execution_count": null,
   "id": "39a75127",
   "metadata": {},
   "outputs": [
    {
     "name": "stdout",
     "output_type": "stream",
     "text": [
      "Enter the time in seconds: 120\n",
      "01:34\r"
     ]
    }
   ],
   "source": [
    "import time\n",
    "def countdown(tm):\n",
    "    while tm:\n",
    "        min, sec = divmod(tm, 60)\n",
    "        timer = '{:02d}:{:02d}'.format(min, sec)\n",
    "        print(timer, end=\"\\r\")\n",
    "        time.sleep(1)\n",
    "        tm -= 1\n",
    "\n",
    "    print('Fire in the hole!!')\n",
    "tm = input(\"Enter the time in seconds: \")\n",
    "countdown(int(tm))"
   ]
  },
  {
   "cell_type": "code",
   "execution_count": null,
   "id": "2592cc72",
   "metadata": {},
   "outputs": [],
   "source": []
  },
  {
   "cell_type": "code",
   "execution_count": null,
   "id": "b7865181",
   "metadata": {},
   "outputs": [],
   "source": []
  }
 ],
 "metadata": {
  "kernelspec": {
   "display_name": "Python 3",
   "language": "python",
   "name": "python3"
  },
  "language_info": {
   "codemirror_mode": {
    "name": "ipython",
    "version": 3
   },
   "file_extension": ".py",
   "mimetype": "text/x-python",
   "name": "python",
   "nbconvert_exporter": "python",
   "pygments_lexer": "ipython3",
   "version": "3.8.8"
  }
 },
 "nbformat": 4,
 "nbformat_minor": 5
}
